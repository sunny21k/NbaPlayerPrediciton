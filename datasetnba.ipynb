{
 "cells": [
  {
   "cell_type": "code",
   "execution_count": 297,
   "id": "b678d5ad-42bb-4e29-96cd-c49e3035ecd8",
   "metadata": {},
   "outputs": [
    {
     "name": "stdout",
     "output_type": "stream",
     "text": [
      "Predicted Points for Norman Powell: 18.90\n",
      "Predicted Rebounds for Norman Powell: 0.47\n",
      "Predicted Assists for Norman Powell: 1.12\n",
      "Predicted 3-Pointers for Norman Powell: 2.81\n"
     ]
    }
   ],
   "source": [
    "import pandas as pd\n",
    "from sklearn.model_selection import train_test_split\n",
    "from sklearn.linear_model import LinearRegression\n",
    "from sklearn.metrics import mean_squared_error, r2_score\n",
    "\n",
    "df = pd.read_csv('database_24_25_new.csv')\n",
    "\n",
    "df = df.sort_values(by=['Player', 'Data']).reset_index(drop=True)\n",
    "\n",
    "def get_player_data(player_name):\n",
    "    return df[df['Player'] == player_name]\n",
    "\n",
    "player_name = 'Norman Powell'\n",
    "player_df = get_player_data(player_name)\n",
    "\n",
    "features = ['MP']\n",
    "target_points = 'PTS'\n",
    "target_rebounds = 'TRB'\n",
    "target_assists = 'AST'\n",
    "target_3pointers = '3P'\n",
    "\n",
    "X = player_df[features]\n",
    "y_points = player_df[target_points]\n",
    "y_rebounds = player_df[target_rebounds]\n",
    "y_assists = player_df[target_assists]\n",
    "y_3pointers = player_df[target_3pointers]\n",
    "\n",
    "X_train, X_test, y_train_points, y_test_points = train_test_split(X, y_points, test_size=0.2, random_state=42)\n",
    "X_train, X_test, y_train_rebounds, y_test_rebounds = train_test_split(X, y_rebounds, test_size=0.2, random_state=42)\n",
    "X_train, X_test, y_train_assists, y_test_assists = train_test_split(X, y_assists, test_size=0.2, random_state=42)\n",
    "X_train, X_test, y_train_3pointers, y_test_3pointers = train_test_split(X, y_3pointers, test_size=0.2, random_state=42)\n",
    "\n",
    "model_points = LinearRegression()\n",
    "model_points.fit(X_train, y_train_points)\n",
    "\n",
    "model_rebounds = LinearRegression()\n",
    "model_rebounds.fit(X_train, y_train_rebounds)\n",
    "\n",
    "model_assists = LinearRegression()\n",
    "model_assists.fit(X_train, y_train_assists)\n",
    "\n",
    "model_3pointers = LinearRegression()\n",
    "model_3pointers.fit(X_train, y_train_3pointers)\n",
    "\n",
    "next_game_features = X.iloc[[-1]]\n",
    "\n",
    "predicted_points = model_points.predict(next_game_features)[0]\n",
    "predicted_rebounds = model_rebounds.predict(next_game_features)[0]\n",
    "predicted_assists = model_assists.predict(next_game_features)[0]\n",
    "predicted_3pointers = model_3pointers.predict(next_game_features)[0]\n",
    "\n",
    "print(f\"Predicted Points for {player_name}: {predicted_points:.2f}\")\n",
    "print(f\"Predicted Rebounds for {player_name}: {predicted_rebounds:.2f}\")\n",
    "print(f\"Predicted Assists for {player_name}: {predicted_assists:.2f}\")\n",
    "print(f\"Predicted 3-Pointers for {player_name}: {predicted_3pointers:.2f}\")"
   ]
  },
  {
   "cell_type": "code",
   "execution_count": null,
   "id": "84745732-3d6c-4cee-b1b7-14ace6c486f5",
   "metadata": {},
   "outputs": [],
   "source": []
  }
 ],
 "metadata": {
  "kernelspec": {
   "display_name": "Python 3 (ipykernel)",
   "language": "python",
   "name": "python3"
  },
  "language_info": {
   "codemirror_mode": {
    "name": "ipython",
    "version": 3
   },
   "file_extension": ".py",
   "mimetype": "text/x-python",
   "name": "python",
   "nbconvert_exporter": "python",
   "pygments_lexer": "ipython3",
   "version": "3.12.4"
  }
 },
 "nbformat": 4,
 "nbformat_minor": 5
}
